{
 "cells": [
  {
   "cell_type": "code",
   "execution_count": 1,
   "metadata": {},
   "outputs": [],
   "source": [
    "import h5py\n",
    "import numpy as np\n",
    "from shutil import copyfile"
   ]
  },
  {
   "cell_type": "code",
   "execution_count": 2,
   "metadata": {},
   "outputs": [],
   "source": [
    "train_folder = \"/home/tai/ws/ijrr_2018/carla_cil_dataset/AgentHuman/SeqTrain/\"\n",
    "save_train_folder = \"/home/tai/ws/ijrr_2018/carla_cil_dataset/AgentHuman/chosen_weather_train/clearnnoon_h5/\"\n",
    "\n",
    "with open(\"../carla_cil_dataset/AgentHuman/chosen_weather_train/train_list.txt\", \"r\") as f:\n",
    "    name_list = f.readlines()\n",
    "    \n",
    "name_list = [item.split()[0][:-4] for item in name_list]"
   ]
  },
  {
   "cell_type": "code",
   "execution_count": 12,
   "metadata": {},
   "outputs": [
    {
     "name": "stdout",
     "output_type": "stream",
     "text": [
      "[    0.     0. 94200. 53400. 50200. 57600.]\n"
     ]
    }
   ],
   "source": [
    "sum_all = np.zeros(6)\n",
    "for item in name_list:\n",
    "    file_name = \"%s%s%s\" % (train_folder, item, \".h5\")\n",
    "    with h5py.File(file_name, \"r\") as f:\n",
    "        targets = np.array(f[\"targets\"]).astype(np.int16)\n",
    "        y = np.bincount(targets[:,24])\n",
    "        ii = np.nonzero(y)[0]\n",
    "        for idx, count in zip(ii, y[ii]):\n",
    "            sum_all[ii] += count\n",
    "print (sum_all)"
   ]
  },
  {
   "cell_type": "code",
   "execution_count": null,
   "metadata": {},
   "outputs": [],
   "source": [
    "two_imgs = np.zeros(94200, 88, 200, 3)\n",
    "two_targets = \n",
    "\n",
    "np.zeros(94200, 88, 200, 3)\n",
    "np.zeros(94200, 88, 200, 3)\n",
    "np.zeros(94200, 88, 200, 3)\n",
    "for item in name_list:\n",
    "    file_name = \"%s%s%s\" % (train_folder, item, \".h5\")\n",
    "    with h5py.File(file_name, \"r\") as f:\n",
    "        targets = np.array(f[\"targets\"]).astype(np.int16)\n",
    "        y = np.bincount(targets[:,24])\n",
    "        ii = np.nonzero(y)[0]\n",
    "        for idx, count in zip(ii, y[ii]):\n",
    "            sum_all[ii] += count\n",
    "\n",
    "            print (sum_all)"
   ]
  },
  {
   "cell_type": "code",
   "execution_count": 4,
   "metadata": {},
   "outputs": [],
   "source": [
    "train_folder = \"/home/tai/ws/ijrr_2018/carla_cil_dataset/AgentHuman/SeqTrain/\"\n",
    "save_train_folder = \"/home/tai/ws/ijrr_2018/carla_cil_dataset/AgentHuman/chosen_weather_train/clearnnoon_h5/\"\n",
    "\n",
    "with open(\"../carla_cil_dataset/AgentHuman/chosen_weather_train/train_list.txt\", \"r\") as f:\n",
    "    name_list = f.readlines()\n",
    "    \n",
    "name_list = [item.split()[0][:-4] for item in name_list]\n",
    "\n",
    "sum_all = np.zeros(6)\n",
    "for item in name_list:\n",
    "    file_name = \"%s%s%s\" % (train_folder, item, \".h5\")\n",
    "    save_name = \"%s%s%s\" % (save_train_folder, item, \".h5\")\n",
    "    copyfile(file_name, save_name)"
   ]
  },
  {
   "cell_type": "code",
   "execution_count": 6,
   "metadata": {},
   "outputs": [],
   "source": [
    "train_folder = \"/home/tai/ws/ijrr_2018/carla_cil_dataset/AgentHuman/SeqVal/\"\n",
    "save_train_folder = \"/home/tai/ws/ijrr_2018/carla_cil_dataset/AgentHuman/chosen_weather_test/clearnoon_h5/\"\n",
    "\n",
    "with open(\"../carla_cil_dataset/AgentHuman/chosen_weather_test/test_list.txt\", \"r\") as f:\n",
    "    name_list = f.readlines()\n",
    "    \n",
    "name_list = [item.split()[0][:-4] for item in name_list]\n",
    "\n",
    "sum_all = np.zeros(6)\n",
    "for item in name_list:\n",
    "    file_name = \"%s%s%s\" % (train_folder, item, \".h5\")\n",
    "    save_name = \"%s%s%s\" % (save_train_folder, item, \".h5\")\n",
    "    copyfile(file_name, save_name)\n",
    "    # print (file_name, save_name)"
   ]
  }
 ],
 "metadata": {
  "kernelspec": {
   "display_name": "Python 3",
   "language": "python",
   "name": "python3"
  },
  "language_info": {
   "codemirror_mode": {
    "name": "ipython",
    "version": 3
   },
   "file_extension": ".py",
   "mimetype": "text/x-python",
   "name": "python",
   "nbconvert_exporter": "python",
   "pygments_lexer": "ipython3",
   "version": "3.6.0"
  }
 },
 "nbformat": 4,
 "nbformat_minor": 2
}
