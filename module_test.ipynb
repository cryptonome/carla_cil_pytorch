{
 "cells": [
  {
   "cell_type": "code",
   "execution_count": 1,
   "metadata": {},
   "outputs": [],
   "source": [
    "import tensorflow as tf\n",
    "from carla_loader import CarlaDataLoader\n",
    "from train import CarlaTraining"
   ]
  },
  {
   "cell_type": "code",
   "execution_count": 2,
   "metadata": {},
   "outputs": [],
   "source": [
    "sess = tf.Session()\n",
    "\n",
    "train_folder = \"/home/tai/ws/ijrr_2018/carla_cil_dataset/AgentHuman/SeqTrain\"\n",
    "test_folder = \"/home/tai/ws/ijrr_2018/carla_cil_dataset/AgentHuman/SeqTrain\"\n",
    "\n",
    "with open(\"../carla_cil_dataset/AgentHuman/test_loader.txt\", \"r\") as f:\n",
    "    name_list = f.readlines()\n",
    "\n",
    "name_list = [item.split()[0] for item in name_list]\n",
    "\n",
    "loader = CarlaDataLoader(sess,\n",
    "                         train_folder,\n",
    "                         name_list, \n",
    "                         test_folder, \n",
    "                         name_list, \n",
    "                         5,\n",
    "                         5,\n",
    "                         200)"
   ]
  },
  {
   "cell_type": "code",
   "execution_count": null,
   "metadata": {},
   "outputs": [],
   "source": [
    "while True:\n",
    "    sess.run(loader.train_iter.initializer) \n",
    "    for i in range(10):\n",
    "        img, target = sess.run(loader.next, feed_dict={loader.handle: loader.train_handle})\n",
    "        # print(type(img))\n",
    " \n"
   ]
  },
  {
   "cell_type": "code",
   "execution_count": null,
   "metadata": {},
   "outputs": [],
   "source": [
    "\n",
    "while True:\n",
    "    sess.run(loader.train_iter.initializer) \n",
    "    for i in range(201):\n",
    "        try:\n",
    "            img, target = sess.run(loader.next, feed_dict={loader.handle: loader.train_handle})\n",
    "        except tf.errors.OutOfRangeError:\n",
    "            break\n",
    "            \n",
    "    sess.run(loader.eval_iter.initializer)  \n",
    "    for i in range(201):\n",
    "        try:\n",
    "            img, target = sess.run(loader.next, feed_dict={loader.handle: loader.eval_handle})\n",
    "        except tf.errors.OutOfRangeError:\n",
    "            break\n",
    "    "
   ]
  },
  {
   "cell_type": "code",
   "execution_count": 3,
   "metadata": {},
   "outputs": [
    {
     "name": "stdout",
     "output_type": "stream",
     "text": [
      " === Conv 0   :   5 2 32\n",
      "Dropout 0\n",
      "Tensor(\"Network/conv_block0/relu1:0\", shape=(?, 42, 98, 32), dtype=float32)\n",
      " === Conv 1   :   3 1 32\n",
      "Dropout 1\n",
      "Tensor(\"Network/conv_block1/relu2:0\", shape=(?, 40, 96, 32), dtype=float32)\n",
      " === Conv 2   :   3 2 64\n",
      "Dropout 2\n",
      "Tensor(\"Network/conv_block2/relu3:0\", shape=(?, 19, 47, 64), dtype=float32)\n",
      " === Conv 3   :   3 1 64\n",
      "Dropout 3\n",
      "Tensor(\"Network/conv_block3/relu4:0\", shape=(?, 17, 45, 64), dtype=float32)\n",
      " === Conv 4   :   3 2 128\n",
      "Dropout 4\n",
      "Tensor(\"Network/conv_block4/relu5:0\", shape=(?, 8, 22, 128), dtype=float32)\n",
      " === Conv 5   :   3 1 128\n",
      "Dropout 5\n",
      "Tensor(\"Network/conv_block5/relu6:0\", shape=(?, 6, 20, 128), dtype=float32)\n",
      " === Conv 6   :   3 1 256\n",
      "Dropout 6\n",
      "Tensor(\"Network/conv_block6/relu7:0\", shape=(?, 4, 18, 256), dtype=float32)\n",
      " === Conv 7   :   3 1 256\n",
      "Dropout 7\n",
      "Tensor(\"Network/conv_block7/relu8:0\", shape=(?, 2, 16, 256), dtype=float32)\n",
      "Tensor(\"Network/reshape:0\", shape=(?, 8192), dtype=float32)\n",
      " === FC 0   :   512\n",
      "Dropout 8\n",
      "Tensor(\"Network/fc1/relu9:0\", shape=(?, 512), dtype=float32)\n",
      " === FC 1   :   512\n",
      "Dropout 9\n",
      " === FC 2   :   128\n",
      "Dropout 10\n",
      " === FC 3   :   128\n",
      "Dropout 11\n",
      " === FC 4   :   512\n",
      "Dropout 12\n",
      " === FC 5   :   256\n",
      "Dropout 13\n",
      " === FC 6   :   256\n",
      "Dropout 14\n",
      "Tensor(\"Network/Branch_0/fc7/relu15:0\", shape=(?, 256), dtype=float32)\n",
      " === FC 8   :   256\n",
      "Dropout 15\n",
      " === FC 9   :   256\n",
      "Dropout 16\n",
      "Tensor(\"Network/Branch_1/fc10/relu17:0\", shape=(?, 256), dtype=float32)\n",
      " === FC 11   :   256\n",
      "Dropout 17\n",
      " === FC 12   :   256\n",
      "Dropout 18\n",
      "Tensor(\"Network/Branch_2/fc13/relu19:0\", shape=(?, 256), dtype=float32)\n",
      " === FC 14   :   256\n",
      "Dropout 19\n",
      " === FC 15   :   256\n",
      "Dropout 20\n",
      "Tensor(\"Network/Branch_3/fc16/relu21:0\", shape=(?, 256), dtype=float32)\n",
      " === FC 17   :   256\n",
      "Dropout 21\n",
      " === FC 18   :   256\n",
      "Dropout 22\n",
      "Tensor(\"Network/Branch_4/fc19/relu23:0\", shape=(?, 256), dtype=float32)\n",
      "initialization over\n"
     ]
    }
   ],
   "source": [
    "carla_training = CarlaTraining()\n"
   ]
  },
  {
   "cell_type": "code",
   "execution_count": null,
   "metadata": {},
   "outputs": [],
   "source": []
  }
 ],
 "metadata": {
  "kernelspec": {
   "display_name": "Python 3",
   "language": "python",
   "name": "python3"
  },
  "language_info": {
   "codemirror_mode": {
    "name": "ipython",
    "version": 3
   },
   "file_extension": ".py",
   "mimetype": "text/x-python",
   "name": "python",
   "nbconvert_exporter": "python",
   "pygments_lexer": "ipython3",
   "version": "3.6.0"
  }
 },
 "nbformat": 4,
 "nbformat_minor": 2
}
